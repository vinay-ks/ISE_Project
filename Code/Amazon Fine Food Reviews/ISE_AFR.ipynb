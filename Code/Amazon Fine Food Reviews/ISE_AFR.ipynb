{
 "cells": [
  {
   "cell_type": "markdown",
   "metadata": {},
   "source": [
    "# Amazon Fine Food Reviews "
   ]
  },
  {
   "cell_type": "markdown",
   "metadata": {},
   "source": [
    "Data Source: https://www.kaggle.com/snap/amazon-fine-food-reviews\n",
    "\n",
    "The dataset consists of reviews of fine foods from Amazon.\n",
    "\n",
    "Number of reviews: 568,454 <br>\n",
    "Number of users: 256,059 <br>\n",
    "Number of products: 74,258 <br>\n",
    "Timespan: Oct 1999 - Oct 2012 <br>\n",
    "Number of Attributes/Columns in data: 10 <br> \n",
    "\n",
    "**Attribute Information:**\n",
    "1. Id\n",
    "2. ProductId - unique identifier for the product\n",
    "3. UserId - unqiue identifier for the user\n",
    "4. ProfileName\n",
    "5. HelpfulnessNumerator - number of users who found the review helpful (YES)\n",
    "6. HelpfulnessDenominator - number of users who indicated whether they found the review helpful or not (YES+NO)\n",
    "7. Score - rating between 1 and 5\n",
    "8. Time - timestamp for the review\n",
    "9. Summary - brief summary of the review\n",
    "10. Text - text of the review"
   ]
  },
  {
   "cell_type": "code",
   "execution_count": 101,
   "metadata": {},
   "outputs": [],
   "source": [
    "import numpy as np\n",
    "import pandas as pd\n",
    "from matplotlib import pyplot as plt\n",
    "import sqlite3\n",
    "import re"
   ]
  },
  {
   "cell_type": "markdown",
   "metadata": {},
   "source": [
    "We are using the sqlite database to fetch the recrods. Since the dataset is huge, it is difficult to operate the CSV file. So,by using the sqlite database, the queries can be applied on the dataset and the results will be faster."
   ]
  },
  {
   "cell_type": "code",
   "execution_count": 102,
   "metadata": {},
   "outputs": [],
   "source": [
    "db_path='database.sqlite'\n",
    "conn=sqlite3.connect(db_path)\n",
    "\n",
    "data=pd.read_sql_query('SELECT * FROM Reviews LIMIT 10000',conn)\n"
   ]
  },
  {
   "cell_type": "markdown",
   "metadata": {},
   "source": [
    "Dividing each star rating and trying to visualize the distribution of ratings over the items in dataset"
   ]
  },
  {
   "cell_type": "code",
   "execution_count": 103,
   "metadata": {},
   "outputs": [],
   "source": [
    "def star_rating(l,i):\n",
    "    rating_list=[]\n",
    "    for x in l:\n",
    "        if(x==i):\n",
    "           rating_list.append(i)\n",
    "    return rating_list"
   ]
  },
  {
   "cell_type": "code",
   "execution_count": 104,
   "metadata": {},
   "outputs": [],
   "source": [
    "rating=data['Score']\n",
    "\n",
    "one_star=star_rating(rating,1)\n",
    "two_star=star_rating(rating,2)\n",
    "three_star=star_rating(rating,3)\n",
    "four_star=star_rating(rating,4)\n",
    "five_star=star_rating(rating,5)"
   ]
  },
  {
   "cell_type": "markdown",
   "metadata": {},
   "source": [
    "Plotting the bar graph of distribution of food items in the dataset "
   ]
  },
  {
   "cell_type": "code",
   "execution_count": 105,
   "metadata": {},
   "outputs": [
    {
     "data": {
      "image/png": "[encoded data removed]",
      "text/plain": [
       "<Figure size 720x360 with 1 Axes>"
      ]
     },
     "metadata": {},
     "output_type": "display_data"
    }
   ],
   "source": [
    "d={1:len(one_star),2:len(two_star),3:len(three_star),4:len(four_star),5:len(five_star)}\n",
    "\n",
    "x=list(d.keys())\n",
    "y=list(d.values())\n",
    "\n",
    "fig=plt.figure(figsize=(10, 5))\n",
    "plt.bar(x,y,width=0.4)\n",
    "\n",
    "plt.xlabel('Ratings')\n",
    "plt.ylabel('Count')\n",
    "plt.title('Ratings Chart')\n",
    "plt.show()"
   ]
  },
  {
   "cell_type": "markdown",
   "metadata": {},
   "source": [
    "Filtering the users from the dataset who have given atleast one rating. Because, the users who didn't give any rating will not be useful."
   ]
  },
  {
   "cell_type": "code",
   "execution_count": 106,
   "metadata": {},
   "outputs": [
    {
     "name": "stdout",
     "output_type": "stream",
     "text": [
      "(10000, 9)\n"
     ]
    }
   ],
   "source": [
    "data1=pd.read_sql_query('SELECT UserId,ProductId,ProfileName,HelpfulnessNumerator,HelpfulnessDenominator,Time,Score,Text,COUNT(*) FROM Reviews GROUP BY UserId HAVING COUNT(*)>1 LIMIT 10000',conn)\n",
    "print(data1.shape)"
   ]
  },
  {
   "cell_type": "code",
   "execution_count": 107,
   "metadata": {},
   "outputs": [
    {
     "name": "stdout",
     "output_type": "stream",
     "text": [
      "10000\n"
     ]
    }
   ],
   "source": [
    "distinct_product_id=pd.read_sql_query('SELECT DISTINCT ProductId FROM Reviews LIMIT 10000',conn)\n",
    "print(len(distinct_product_id))"
   ]
  },
  {
   "cell_type": "markdown",
   "metadata": {},
   "source": [
    "If you clearly observe the result of below query, the same person LINDA Riley has given multiple reviews for different products in the same timestamp. How is it possible? Because it takes some time to write a review. <br>\n",
    "If you goto the website and check these products, the products are similar but they are of different flavours. There is no rule that if one flavour is good, the other flavours of same product also have to be good."
   ]
  },
  {
   "cell_type": "code",
   "execution_count": 108,
   "metadata": {},
   "outputs": [
    {
     "name": "stdout",
     "output_type": "stream",
     "text": [
      "5859\n"
     ]
    },
    {
     "data": {
      "text/html": [
       "<div>\n",
       "<style scoped>\n",
       "    .dataframe tbody tr th:only-of-type {\n",
       "        vertical-align: middle;\n",
       "    }\n",
       "\n",
       "    .dataframe tbody tr th {\n",
       "        vertical-align: top;\n",
       "    }\n",
       "\n",
       "    .dataframe thead th {\n",
       "        text-align: right;\n",
       "    }\n",
       "</style>\n",
       "<table border=\"1\" class=\"dataframe\">\n",
       "  <thead>\n",
       "    <tr style=\"text-align: right;\">\n",
       "      <th></th>\n",
       "      <th>Id</th>\n",
       "      <th>ProductId</th>\n",
       "      <th>UserId</th>\n",
       "      <th>ProfileName</th>\n",
       "      <th>HelpfulnessNumerator</th>\n",
       "      <th>HelpfulnessDenominator</th>\n",
       "      <th>Score</th>\n",
       "      <th>Time</th>\n",
       "      <th>Summary</th>\n",
       "      <th>Text</th>\n",
       "    </tr>\n",
       "  </thead>\n",
       "  <tbody>\n",
       "    <tr>\n",
       "      <th>0</th>\n",
       "      <td>239325</td>\n",
       "      <td>B00008DFK5</td>\n",
       "      <td>A102TGNH1D915Z</td>\n",
       "      <td>LINDA Riley</td>\n",
       "      <td>2</td>\n",
       "      <td>3</td>\n",
       "      <td>4</td>\n",
       "      <td>1262131200</td>\n",
       "      <td>Not just for puppies...</td>\n",
       "      <td>Although the product can be a bit pricey, it c...</td>\n",
       "    </tr>\n",
       "    <tr>\n",
       "      <th>1</th>\n",
       "      <td>258132</td>\n",
       "      <td>B0002DHNXC</td>\n",
       "      <td>A102TGNH1D915Z</td>\n",
       "      <td>LINDA Riley</td>\n",
       "      <td>2</td>\n",
       "      <td>3</td>\n",
       "      <td>4</td>\n",
       "      <td>1262131200</td>\n",
       "      <td>Not just for puppies...</td>\n",
       "      <td>Although the product can be a bit pricey, it c...</td>\n",
       "    </tr>\n",
       "    <tr>\n",
       "      <th>2</th>\n",
       "      <td>58616</td>\n",
       "      <td>B0009YD7P2</td>\n",
       "      <td>A102TGNH1D915Z</td>\n",
       "      <td>LINDA Riley</td>\n",
       "      <td>2</td>\n",
       "      <td>3</td>\n",
       "      <td>4</td>\n",
       "      <td>1262131200</td>\n",
       "      <td>Not just for puppies...</td>\n",
       "      <td>Although the product can be a bit pricey, it c...</td>\n",
       "    </tr>\n",
       "    <tr>\n",
       "      <th>3</th>\n",
       "      <td>27840</td>\n",
       "      <td>B000SP1CWW</td>\n",
       "      <td>A102TGNH1D915Z</td>\n",
       "      <td>LINDA Riley</td>\n",
       "      <td>2</td>\n",
       "      <td>3</td>\n",
       "      <td>4</td>\n",
       "      <td>1262131200</td>\n",
       "      <td>Not just for puppies...</td>\n",
       "      <td>Although the product can be a bit pricey, it c...</td>\n",
       "    </tr>\n",
       "    <tr>\n",
       "      <th>4</th>\n",
       "      <td>389731</td>\n",
       "      <td>B0008IT4OM</td>\n",
       "      <td>A106N4B4EG4DR8</td>\n",
       "      <td>Monday \"Pamela\"</td>\n",
       "      <td>0</td>\n",
       "      <td>0</td>\n",
       "      <td>5</td>\n",
       "      <td>1210118400</td>\n",
       "      <td>Full praise for these delicious morsals that m...</td>\n",
       "      <td>Yummy is all you need to know. Simply deliciou...</td>\n",
       "    </tr>\n",
       "  </tbody>\n",
       "</table>\n",
       "</div>"
      ],
      "text/plain": [
       "       Id   ProductId          UserId      ProfileName  HelpfulnessNumerator  \\\n",
       "0  239325  B00008DFK5  A102TGNH1D915Z      LINDA Riley                     2   \n",
       "1  258132  B0002DHNXC  A102TGNH1D915Z      LINDA Riley                     2   \n",
       "2   58616  B0009YD7P2  A102TGNH1D915Z      LINDA Riley                     2   \n",
       "3   27840  B000SP1CWW  A102TGNH1D915Z      LINDA Riley                     2   \n",
       "4  389731  B0008IT4OM  A106N4B4EG4DR8  Monday \"Pamela\"                     0   \n",
       "\n",
       "   HelpfulnessDenominator  Score        Time  \\\n",
       "0                       3      4  1262131200   \n",
       "1                       3      4  1262131200   \n",
       "2                       3      4  1262131200   \n",
       "3                       3      4  1262131200   \n",
       "4                       0      5  1210118400   \n",
       "\n",
       "                                             Summary  \\\n",
       "0                            Not just for puppies...   \n",
       "1                            Not just for puppies...   \n",
       "2                            Not just for puppies...   \n",
       "3                            Not just for puppies...   \n",
       "4  Full praise for these delicious morsals that m...   \n",
       "\n",
       "                                                Text  \n",
       "0  Although the product can be a bit pricey, it c...  \n",
       "1  Although the product can be a bit pricey, it c...  \n",
       "2  Although the product can be a bit pricey, it c...  \n",
       "3  Although the product can be a bit pricey, it c...  \n",
       "4  Yummy is all you need to know. Simply deliciou...  "
      ]
     },
     "execution_count": 108,
     "metadata": {},
     "output_type": "execute_result"
    }
   ],
   "source": [
    "duplicate_reviews=pd.read_sql_query('SELECT * FROM Reviews GROUP BY UserId,ProductId HAVING COUNT(*)>1 LIMIT 10000',conn)\n",
    "print(len(duplicate_reviews))\n",
    "duplicate_reviews.head()"
   ]
  },
  {
   "cell_type": "markdown",
   "metadata": {},
   "source": [
    "Sorting the reviews according to the ProductId"
   ]
  },
  {
   "cell_type": "code",
   "execution_count": 109,
   "metadata": {
    "scrolled": true
   },
   "outputs": [
    {
     "name": "stdout",
     "output_type": "stream",
     "text": [
      "(10000, 9)\n"
     ]
    },
    {
     "data": {
      "text/html": [
       "<div>\n",
       "<style scoped>\n",
       "    .dataframe tbody tr th:only-of-type {\n",
       "        vertical-align: middle;\n",
       "    }\n",
       "\n",
       "    .dataframe tbody tr th {\n",
       "        vertical-align: top;\n",
       "    }\n",
       "\n",
       "    .dataframe thead th {\n",
       "        text-align: right;\n",
       "    }\n",
       "</style>\n",
       "<table border=\"1\" class=\"dataframe\">\n",
       "  <thead>\n",
       "    <tr style=\"text-align: right;\">\n",
       "      <th></th>\n",
       "      <th>UserId</th>\n",
       "      <th>ProductId</th>\n",
       "      <th>ProfileName</th>\n",
       "      <th>HelpfulnessNumerator</th>\n",
       "      <th>HelpfulnessDenominator</th>\n",
       "      <th>Time</th>\n",
       "      <th>Score</th>\n",
       "      <th>Text</th>\n",
       "      <th>COUNT(*)</th>\n",
       "    </tr>\n",
       "  </thead>\n",
       "  <tbody>\n",
       "    <tr>\n",
       "      <th>9952</th>\n",
       "      <td>A1GQUBNRZK3RHI</td>\n",
       "      <td>B00002N8SM</td>\n",
       "      <td>X. Li</td>\n",
       "      <td>0</td>\n",
       "      <td>0</td>\n",
       "      <td>1279411200</td>\n",
       "      <td>1</td>\n",
       "      <td>This product does not work at all. I hang it i...</td>\n",
       "      <td>2</td>\n",
       "    </tr>\n",
       "    <tr>\n",
       "      <th>5561</th>\n",
       "      <td>A196AJHU9EASJN</td>\n",
       "      <td>B00002NCJC</td>\n",
       "      <td>Alex Chaffee</td>\n",
       "      <td>0</td>\n",
       "      <td>0</td>\n",
       "      <td>1282953600</td>\n",
       "      <td>4</td>\n",
       "      <td>Why is this $[...] when the same product is av...</td>\n",
       "      <td>2</td>\n",
       "    </tr>\n",
       "    <tr>\n",
       "      <th>2319</th>\n",
       "      <td>A13RRPGE79XFFH</td>\n",
       "      <td>B00002NCJC</td>\n",
       "      <td>reader48</td>\n",
       "      <td>0</td>\n",
       "      <td>0</td>\n",
       "      <td>1281052800</td>\n",
       "      <td>5</td>\n",
       "      <td>We have used the Victor fly bait for 3 seasons...</td>\n",
       "      <td>2</td>\n",
       "    </tr>\n",
       "    <tr>\n",
       "      <th>3414</th>\n",
       "      <td>A15N6S5GN8NHM7</td>\n",
       "      <td>B00004RAMY</td>\n",
       "      <td>L. Paul Joseph</td>\n",
       "      <td>0</td>\n",
       "      <td>0</td>\n",
       "      <td>1341878400</td>\n",
       "      <td>5</td>\n",
       "      <td>I'm looking forward to using this trap on a il...</td>\n",
       "      <td>2</td>\n",
       "    </tr>\n",
       "    <tr>\n",
       "      <th>9588</th>\n",
       "      <td>A1G65L9BLQ4R9W</td>\n",
       "      <td>B00004RBDW</td>\n",
       "      <td>tbrochny</td>\n",
       "      <td>0</td>\n",
       "      <td>1</td>\n",
       "      <td>1279152000</td>\n",
       "      <td>5</td>\n",
       "      <td>I've just installed the third unit in our gara...</td>\n",
       "      <td>3</td>\n",
       "    </tr>\n",
       "  </tbody>\n",
       "</table>\n",
       "</div>"
      ],
      "text/plain": [
       "              UserId   ProductId     ProfileName  HelpfulnessNumerator  \\\n",
       "9952  A1GQUBNRZK3RHI  B00002N8SM           X. Li                     0   \n",
       "5561  A196AJHU9EASJN  B00002NCJC    Alex Chaffee                     0   \n",
       "2319  A13RRPGE79XFFH  B00002NCJC        reader48                     0   \n",
       "3414  A15N6S5GN8NHM7  B00004RAMY  L. Paul Joseph                     0   \n",
       "9588  A1G65L9BLQ4R9W  B00004RBDW        tbrochny                     0   \n",
       "\n",
       "      HelpfulnessDenominator        Time  Score  \\\n",
       "9952                       0  1279411200      1   \n",
       "5561                       0  1282953600      4   \n",
       "2319                       0  1281052800      5   \n",
       "3414                       0  1341878400      5   \n",
       "9588                       1  1279152000      5   \n",
       "\n",
       "                                                   Text  COUNT(*)  \n",
       "9952  This product does not work at all. I hang it i...         2  \n",
       "5561  Why is this $[...] when the same product is av...         2  \n",
       "2319  We have used the Victor fly bait for 3 seasons...         2  \n",
       "3414  I'm looking forward to using this trap on a il...         2  \n",
       "9588  I've just installed the third unit in our gara...         3  "
      ]
     },
     "execution_count": 109,
     "metadata": {},
     "output_type": "execute_result"
    }
   ],
   "source": [
    "data2=data1.sort_values('ProductId',axis=0,ascending=True,inplace=False,kind='quicksort',na_position='last')\n",
    "print(data2.shape)\n",
    "data2.head()"
   ]
  },
  {
   "cell_type": "code",
   "execution_count": 110,
   "metadata": {},
   "outputs": [
    {
     "name": "stdout",
     "output_type": "stream",
     "text": [
      "(10000, 9)\n"
     ]
    }
   ],
   "source": [
    "data3=data2.drop_duplicates(subset={\"UserId\",\"ProductId\",\"ProfileName\",\"HelpfulnessNumerator\",\"HelpfulnessDenominator\",\"Time\",\"Score\",\"Text\"}, keep='first', inplace=False)\n",
    "print(data3.shape)"
   ]
  },
  {
   "cell_type": "markdown",
   "metadata": {},
   "source": [
    "HelpfulnessNumerator = total no. of users that found review is helpful  <br>\n",
    "HelpfulnessDenominator = sum of total no. of users that found review is both helpful and not helpful  <br>\n",
    "\n",
    "The value of HelpfulnessDenominator should be greater than or equal to the value of HelpfulnessNumerator. <br>"
   ]
  },
  {
   "cell_type": "code",
   "execution_count": 111,
   "metadata": {},
   "outputs": [
    {
     "data": {
      "text/html": [
       "<div>\n",
       "<style scoped>\n",
       "    .dataframe tbody tr th:only-of-type {\n",
       "        vertical-align: middle;\n",
       "    }\n",
       "\n",
       "    .dataframe tbody tr th {\n",
       "        vertical-align: top;\n",
       "    }\n",
       "\n",
       "    .dataframe thead th {\n",
       "        text-align: right;\n",
       "    }\n",
       "</style>\n",
       "<table border=\"1\" class=\"dataframe\">\n",
       "  <thead>\n",
       "    <tr style=\"text-align: right;\">\n",
       "      <th></th>\n",
       "      <th>Id</th>\n",
       "      <th>ProductId</th>\n",
       "      <th>UserId</th>\n",
       "      <th>ProfileName</th>\n",
       "      <th>HelpfulnessNumerator</th>\n",
       "      <th>HelpfulnessDenominator</th>\n",
       "      <th>Score</th>\n",
       "      <th>Time</th>\n",
       "      <th>Summary</th>\n",
       "      <th>Text</th>\n",
       "    </tr>\n",
       "  </thead>\n",
       "  <tbody>\n",
       "    <tr>\n",
       "      <th>0</th>\n",
       "      <td>44737</td>\n",
       "      <td>B001EQ55RW</td>\n",
       "      <td>A2V0I904FH7ABY</td>\n",
       "      <td>Ram</td>\n",
       "      <td>3</td>\n",
       "      <td>2</td>\n",
       "      <td>4</td>\n",
       "      <td>1212883200</td>\n",
       "      <td>Pure cocoa taste with crunchy almonds inside</td>\n",
       "      <td>It was almost a 'love at first bite' - the per...</td>\n",
       "    </tr>\n",
       "    <tr>\n",
       "      <th>1</th>\n",
       "      <td>64422</td>\n",
       "      <td>B000MIDROQ</td>\n",
       "      <td>A161DK06JJMCYF</td>\n",
       "      <td>J. E. Stephens \"Jeanne\"</td>\n",
       "      <td>3</td>\n",
       "      <td>1</td>\n",
       "      <td>5</td>\n",
       "      <td>1224892800</td>\n",
       "      <td>Bought This for My Son at College</td>\n",
       "      <td>My son loves spaghetti so I didn't hesitate or...</td>\n",
       "    </tr>\n",
       "  </tbody>\n",
       "</table>\n",
       "</div>"
      ],
      "text/plain": [
       "      Id   ProductId          UserId              ProfileName  \\\n",
       "0  44737  B001EQ55RW  A2V0I904FH7ABY                      Ram   \n",
       "1  64422  B000MIDROQ  A161DK06JJMCYF  J. E. Stephens \"Jeanne\"   \n",
       "\n",
       "   HelpfulnessNumerator  HelpfulnessDenominator  Score        Time  \\\n",
       "0                     3                       2      4  1212883200   \n",
       "1                     3                       1      5  1224892800   \n",
       "\n",
       "                                        Summary  \\\n",
       "0  Pure cocoa taste with crunchy almonds inside   \n",
       "1             Bought This for My Son at College   \n",
       "\n",
       "                                                Text  \n",
       "0  It was almost a 'love at first bite' - the per...  \n",
       "1  My son loves spaghetti so I didn't hesitate or...  "
      ]
     },
     "execution_count": 111,
     "metadata": {},
     "output_type": "execute_result"
    }
   ],
   "source": [
    "helpfullness=pd.read_sql_query('SELECT * FROM Reviews WHERE HelpfulnessNumerator>HelpfulnessDenominator LIMIT 10000',conn)\n",
    "helpfullness.head()"
   ]
  },
  {
   "cell_type": "markdown",
   "metadata": {},
   "source": [
    "Eliminating the reviews which are violating the above property"
   ]
  },
  {
   "cell_type": "code",
   "execution_count": 112,
   "metadata": {},
   "outputs": [
    {
     "data": {
      "text/html": [
       "<div>\n",
       "<style scoped>\n",
       "    .dataframe tbody tr th:only-of-type {\n",
       "        vertical-align: middle;\n",
       "    }\n",
       "\n",
       "    .dataframe tbody tr th {\n",
       "        vertical-align: top;\n",
       "    }\n",
       "\n",
       "    .dataframe thead th {\n",
       "        text-align: right;\n",
       "    }\n",
       "</style>\n",
       "<table border=\"1\" class=\"dataframe\">\n",
       "  <thead>\n",
       "    <tr style=\"text-align: right;\">\n",
       "      <th></th>\n",
       "      <th>UserId</th>\n",
       "      <th>ProductId</th>\n",
       "      <th>ProfileName</th>\n",
       "      <th>HelpfulnessNumerator</th>\n",
       "      <th>HelpfulnessDenominator</th>\n",
       "      <th>Time</th>\n",
       "      <th>Score</th>\n",
       "      <th>Text</th>\n",
       "      <th>COUNT(*)</th>\n",
       "    </tr>\n",
       "  </thead>\n",
       "  <tbody>\n",
       "    <tr>\n",
       "      <th>9952</th>\n",
       "      <td>A1GQUBNRZK3RHI</td>\n",
       "      <td>B00002N8SM</td>\n",
       "      <td>X. Li</td>\n",
       "      <td>0</td>\n",
       "      <td>0</td>\n",
       "      <td>1279411200</td>\n",
       "      <td>1</td>\n",
       "      <td>This product does not work at all. I hang it i...</td>\n",
       "      <td>2</td>\n",
       "    </tr>\n",
       "    <tr>\n",
       "      <th>5561</th>\n",
       "      <td>A196AJHU9EASJN</td>\n",
       "      <td>B00002NCJC</td>\n",
       "      <td>Alex Chaffee</td>\n",
       "      <td>0</td>\n",
       "      <td>0</td>\n",
       "      <td>1282953600</td>\n",
       "      <td>4</td>\n",
       "      <td>Why is this $[...] when the same product is av...</td>\n",
       "      <td>2</td>\n",
       "    </tr>\n",
       "    <tr>\n",
       "      <th>2319</th>\n",
       "      <td>A13RRPGE79XFFH</td>\n",
       "      <td>B00002NCJC</td>\n",
       "      <td>reader48</td>\n",
       "      <td>0</td>\n",
       "      <td>0</td>\n",
       "      <td>1281052800</td>\n",
       "      <td>5</td>\n",
       "      <td>We have used the Victor fly bait for 3 seasons...</td>\n",
       "      <td>2</td>\n",
       "    </tr>\n",
       "    <tr>\n",
       "      <th>3414</th>\n",
       "      <td>A15N6S5GN8NHM7</td>\n",
       "      <td>B00004RAMY</td>\n",
       "      <td>L. Paul Joseph</td>\n",
       "      <td>0</td>\n",
       "      <td>0</td>\n",
       "      <td>1341878400</td>\n",
       "      <td>5</td>\n",
       "      <td>I'm looking forward to using this trap on a il...</td>\n",
       "      <td>2</td>\n",
       "    </tr>\n",
       "    <tr>\n",
       "      <th>9588</th>\n",
       "      <td>A1G65L9BLQ4R9W</td>\n",
       "      <td>B00004RBDW</td>\n",
       "      <td>tbrochny</td>\n",
       "      <td>0</td>\n",
       "      <td>1</td>\n",
       "      <td>1279152000</td>\n",
       "      <td>5</td>\n",
       "      <td>I've just installed the third unit in our gara...</td>\n",
       "      <td>3</td>\n",
       "    </tr>\n",
       "  </tbody>\n",
       "</table>\n",
       "</div>"
      ],
      "text/plain": [
       "              UserId   ProductId     ProfileName  HelpfulnessNumerator  \\\n",
       "9952  A1GQUBNRZK3RHI  B00002N8SM           X. Li                     0   \n",
       "5561  A196AJHU9EASJN  B00002NCJC    Alex Chaffee                     0   \n",
       "2319  A13RRPGE79XFFH  B00002NCJC        reader48                     0   \n",
       "3414  A15N6S5GN8NHM7  B00004RAMY  L. Paul Joseph                     0   \n",
       "9588  A1G65L9BLQ4R9W  B00004RBDW        tbrochny                     0   \n",
       "\n",
       "      HelpfulnessDenominator        Time  Score  \\\n",
       "9952                       0  1279411200      1   \n",
       "5561                       0  1282953600      4   \n",
       "2319                       0  1281052800      5   \n",
       "3414                       0  1341878400      5   \n",
       "9588                       1  1279152000      5   \n",
       "\n",
       "                                                   Text  COUNT(*)  \n",
       "9952  This product does not work at all. I hang it i...         2  \n",
       "5561  Why is this $[...] when the same product is av...         2  \n",
       "2319  We have used the Victor fly bait for 3 seasons...         2  \n",
       "3414  I'm looking forward to using this trap on a il...         2  \n",
       "9588  I've just installed the third unit in our gara...         3  "
      ]
     },
     "execution_count": 112,
     "metadata": {},
     "output_type": "execute_result"
    }
   ],
   "source": [
    "data4=data3[data3['HelpfulnessNumerator']<=data3['HelpfulnessDenominator']]\n",
    "data4.head()"
   ]
  },
  {
   "cell_type": "markdown",
   "metadata": {},
   "source": [
    "# Text preprocessing"
   ]
  },
  {
   "cell_type": "code",
   "execution_count": 113,
   "metadata": {},
   "outputs": [
    {
     "name": "stdout",
     "output_type": "stream",
     "text": [
      "This product does not work at all. I hang it in the kitchen for 5 days but no fly has been attracted!<br /><br />It doesn't worth the time and money to return it. But please, buyer beware, I strongly suggest you go find some other item.\n",
      "----------------------------------------------------------------------------------------------------\n",
      "I have tried allot of bacon over the years and this is the best one I have found. Very heavy smoke, but does not taste bitter or acrid. Smells smokier than it tastes, it will perfume your kitchen. This is also very lean bacon so don't worry that you are paying for some very expensive fat. Still, it's not cheap and you have to be a hard core bacon lover to pay that much, especially if you have to pay shipping on top of it. Would be a great gift though.\n",
      "----------------------------------------------------------------------------------------------------\n",
      "I have recently been on a low carb diet, as I find that I can no longer tolerate even natural sugars like agave, honey, and dates. These raise the blood sugar which spikes the insulin, a hormone whose message is \"store fat!\" Insulin also causes the kidneys to retain water and therefore I would bloat from a high carb diet.<br /><br />My dilemma is that I love sweets--and now it is not a problem, thanks to products like stevia, a natural plant that has safely been used in parts of the world as a sweetener for hundreds of years. It has no calories and no impact on the blood sugar (although for some people there might be a bit, as the brain is tricked into thinking it is getting sugar). Stevia used to be legal in the USA only as a cosmetic product because of politics: companies that made low calorie sweeteners such as aspartame did not want competition. Yet, aspartame gave me headaches and even sometimes symptoms of multiple sclerosis. So I would use stevia at times, but the aftertaste was bad--and to be honest, I wasn't too crazy about the \"during taste\" either.<br /><br />Then I tried NuNaturals. This product is awesome and like no other stevia I have tried. It is not only delicious but also has no aftertaste (unless you put in way too much--a common mistake by people new to this). It comes in tablets and in powdered form (in a bottle or handy packets with individual servings). It also comes in alcohol-free liquid form and even in vanilla flavor. Unlike aspartame (which becomes even more toxic when heated) stevia can be used in baking. NuNaturals has a stevia baking blend just for that. (Since I am a raw fooder, I can't tell you how it tastes, but I am sure it is good, judging by their other products.)<br /><br />Thanks to these great products, I can do a low carb raw diet but not be deprived of my sweets!\n",
      "----------------------------------------------------------------------------------------------------\n",
      "This is one of my favorite sauces to have handy. With this order you get two giant bottles which should last a while. The taste of this is perfect! Not for the faint of heart however...\n"
     ]
    }
   ],
   "source": [
    "r1=data4['Text'].values[0]\n",
    "print(r1)\n",
    "print('-'*100)\n",
    "\n",
    "r2=data4['Text'].values[100]\n",
    "print(r2)\n",
    "print('-'*100)\n",
    "\n",
    "r3=data4['Text'].values[500]\n",
    "print(r3)\n",
    "print('-'*100)\n",
    "\n",
    "r4=data4['Text'].values[200]\n",
    "print(r4)"
   ]
  },
  {
   "cell_type": "markdown",
   "metadata": {},
   "source": [
    "1. We need to eliminate all the html tags from the reviews and remove the stop words to apply Bag of Words technique. <br>\n",
    "2. convert all the reviews into lowercase for simplicity. <br>\n",
    "3. Some users have put the links to other websites. So, we also have to remove the links from reviews. <br>\n",
    "4. Remove all the special characters like &,@,$,# from the reviews. <br>\n",
    "5. Remove the alphanumeric words  \n",
    "6. Remove all the stop words. Stop words have no use in pre-processing. They are used just for the grammatical meaning of the sentence. <br>\n",
    "7. Apply stemming"
   ]
  },
  {
   "cell_type": "code",
   "execution_count": 114,
   "metadata": {},
   "outputs": [],
   "source": [
    "#removing the HTML tags from the reviews\n",
    "\n",
    "CLEANR=re.compile('<.*?>|&([a-z0-9]+|#[0-9]{1,6}|#x[0-9a-f]{1,6});')\n",
    "\n",
    "k=0\n",
    "for review in data4['Text']:\n",
    "    r=re.sub(CLEANR,' ',review)\n",
    "    data4['Text'].values[k]=r\n",
    "    k+=1\n",
    "    "
   ]
  },
  {
   "cell_type": "markdown",
   "metadata": {},
   "source": [
    "Reviews after removing the HTML tags"
   ]
  },
  {
   "cell_type": "code",
   "execution_count": 121,
   "metadata": {},
   "outputs": [
    {
     "name": "stdout",
     "output_type": "stream",
     "text": [
      "This product does not work at all I hang it in the kitchen for   days but no fly has been attracted It doesn t worth the time and money to return it But please buyer beware I strongly suggest you go find some other item \n",
      "----------------------------------------------------------------------------------------------------\n",
      "I have recently been on a low carb diet as I find that I can no longer tolerate even natural sugars like agave honey and dates These raise the blood sugar which spikes the insulin a hormone whose message is store fat Insulin also causes the kidneys to retain water and therefore I would bloat from a high carb diet My dilemma is that I love sweets and now it is not a problem thanks to products like stevia a natural plant that has safely been used in parts of the world as a sweetener for hundreds of years It has no calories and no impact on the blood sugar although for some people there might be a bit as the brain is tricked into thinking it is getting sugar Stevia used to be legal in the USA only as a cosmetic product because of politics companies that made low calorie sweeteners such as aspartame did not want competition Yet aspartame gave me headaches and even sometimes symptoms of multiple sclerosis So I would use stevia at times but the aftertaste was bad and to be honest I wasn t too crazy about the during taste either Then I tried NuNaturals This product is awesome and like no other stevia I have tried It is not only delicious but also has no aftertaste unless you put in way too much a common mistake by people new to this It comes in tablets and in powdered form in a bottle or handy packets with individual servings It also comes in alcohol free liquid form and even in vanilla flavor Unlike aspartame which becomes even more toxic when heated stevia can be used in baking NuNaturals has a stevia baking blend just for that Since I am a raw fooder I can t tell you how it tastes but I am sure it is good judging by their other products Thanks to these great products I can do a low carb raw diet but not be deprived of my sweets \n"
     ]
    }
   ],
   "source": [
    "print(data4['Text'].values[0])\n",
    "print('-'*100)\n",
    "\n",
    "print(data4['Text'].values[500])"
   ]
  },
  {
   "cell_type": "code",
   "execution_count": 115,
   "metadata": {},
   "outputs": [
    {
     "name": "stdout",
     "output_type": "stream",
     "text": [
      "This product does not work at all I hang it in the kitchen for 5 days but no fly has been attracted br br It doesn t worth the time and money to return it But please buyer beware I strongly suggest you go find some other item  \n",
      " ----------------------------------------------------------------------------------------------------\n",
      "I have tried allot of bacon over the years and this is the best one I have found Very heavy smoke but does not taste bitter or acrid Smells smokier than it tastes it will perfume your kitchen This is also very lean bacon so don t worry that you are paying for some very expensive fat Still it s not cheap and you have to be a hard core bacon lover to pay that much especially if you have to pay shipping on top of it Would be a great gift though  \n",
      " ----------------------------------------------------------------------------------------------------\n",
      "I have recently been on a low carb diet as I find that I can no longer tolerate even natural sugars like agave honey and dates These raise the blood sugar which spikes the insulin a hormone whose message is store fat Insulin also causes the kidneys to retain water and therefore I would bloat from a high carb diet br br My dilemma is that I love sweets and now it is not a problem thanks to products like stevia a natural plant that has safely been used in parts of the world as a sweetener for hundreds of years It has no calories and no impact on the blood sugar although for some people there might be a bit as the brain is tricked into thinking it is getting sugar Stevia used to be legal in the USA only as a cosmetic product because of politics companies that made low calorie sweeteners such as aspartame did not want competition Yet aspartame gave me headaches and even sometimes symptoms of multiple sclerosis So I would use stevia at times but the aftertaste was bad and to be honest I wasn t too crazy about the during taste either br br Then I tried NuNaturals This product is awesome and like no other stevia I have tried It is not only delicious but also has no aftertaste unless you put in way too much a common mistake by people new to this It comes in tablets and in powdered form in a bottle or handy packets with individual servings It also comes in alcohol free liquid form and even in vanilla flavor Unlike aspartame which becomes even more toxic when heated stevia can be used in baking NuNaturals has a stevia baking blend just for that Since I am a raw fooder I can t tell you how it tastes but I am sure it is good judging by their other products br br Thanks to these great products I can do a low carb raw diet but not be deprived of my sweets  \n",
      " ----------------------------------------------------------------------------------------------------\n",
      "This is one of my favorite sauces to have handy With this order you get two giant bottles which should last a while The taste of this is perfect Not for the faint of heart however  \n",
      " ----------------------------------------------------------------------------------------------------\n"
     ]
    }
   ],
   "source": [
    "#removing the special characters\n",
    "\n",
    "r1=re.sub(r'[^A-Za-z0-9]+',' ',r1,flags=re.MULTILINE)\n",
    "r2=re.sub(r'[^A-Za-z0-9]+',' ',r2,flags=re.MULTILINE)\n",
    "r3=re.sub(r'[^A-Za-z0-9]+',' ',r3,flags=re.MULTILINE)\n",
    "r4=re.sub(r'[^A-Za-z0-9]+',' ',r4,flags=re.MULTILINE)\n",
    "\n",
    "print(r1,'\\n','-'*100)\n",
    "print(r2,'\\n','-'*100)\n",
    "print(r3,'\\n','-'*100)\n",
    "print(r4,'\\n','-'*100)\n",
    "\n",
    "k=0\n",
    "for review in data4['Text']:\n",
    "    review=re.sub(r'[^A-Za-z0-9]+',' ',review)\n",
    "    #print(review)\n",
    "    data4['Text'].values[k]=review;\n",
    "    k+=1\n"
   ]
  },
  {
   "cell_type": "markdown",
   "metadata": {},
   "source": [
    "Reviews after removing the special characters"
   ]
  },
  {
   "cell_type": "code",
   "execution_count": 116,
   "metadata": {},
   "outputs": [
    {
     "name": "stdout",
     "output_type": "stream",
     "text": [
      "This product does not work at all I hang it in the kitchen for 5 days but no fly has been attracted It doesn t worth the time and money to return it But please buyer beware I strongly suggest you go find some other item \n",
      "----------------------------------------------------------------------------------------------------\n",
      "I have recently been on a low carb diet as I find that I can no longer tolerate even natural sugars like agave honey and dates These raise the blood sugar which spikes the insulin a hormone whose message is store fat Insulin also causes the kidneys to retain water and therefore I would bloat from a high carb diet My dilemma is that I love sweets and now it is not a problem thanks to products like stevia a natural plant that has safely been used in parts of the world as a sweetener for hundreds of years It has no calories and no impact on the blood sugar although for some people there might be a bit as the brain is tricked into thinking it is getting sugar Stevia used to be legal in the USA only as a cosmetic product because of politics companies that made low calorie sweeteners such as aspartame did not want competition Yet aspartame gave me headaches and even sometimes symptoms of multiple sclerosis So I would use stevia at times but the aftertaste was bad and to be honest I wasn t too crazy about the during taste either Then I tried NuNaturals This product is awesome and like no other stevia I have tried It is not only delicious but also has no aftertaste unless you put in way too much a common mistake by people new to this It comes in tablets and in powdered form in a bottle or handy packets with individual servings It also comes in alcohol free liquid form and even in vanilla flavor Unlike aspartame which becomes even more toxic when heated stevia can be used in baking NuNaturals has a stevia baking blend just for that Since I am a raw fooder I can t tell you how it tastes but I am sure it is good judging by their other products Thanks to these great products I can do a low carb raw diet but not be deprived of my sweets \n"
     ]
    }
   ],
   "source": [
    "print(data4['Text'].values[0])\n",
    "print('-'*100)\n",
    "\n",
    "print(data4['Text'].values[500])"
   ]
  },
  {
   "cell_type": "code",
   "execution_count": 117,
   "metadata": {},
   "outputs": [
    {
     "name": "stdout",
     "output_type": "stream",
     "text": [
      "This product does not work at all I hang it in the kitchen for   days but no fly has been attracted br br It doesn t worth the time and money to return it But please buyer beware I strongly suggest you go find some other item  \n",
      " ----------------------------------------------------------------------------------------------------\n",
      "I have tried allot of bacon over the years and this is the best one I have found Very heavy smoke but does not taste bitter or acrid Smells smokier than it tastes it will perfume your kitchen This is also very lean bacon so don t worry that you are paying for some very expensive fat Still it s not cheap and you have to be a hard core bacon lover to pay that much especially if you have to pay shipping on top of it Would be a great gift though  \n",
      " ----------------------------------------------------------------------------------------------------\n",
      "I have recently been on a low carb diet as I find that I can no longer tolerate even natural sugars like agave honey and dates These raise the blood sugar which spikes the insulin a hormone whose message is store fat Insulin also causes the kidneys to retain water and therefore I would bloat from a high carb diet br br My dilemma is that I love sweets and now it is not a problem thanks to products like stevia a natural plant that has safely been used in parts of the world as a sweetener for hundreds of years It has no calories and no impact on the blood sugar although for some people there might be a bit as the brain is tricked into thinking it is getting sugar Stevia used to be legal in the USA only as a cosmetic product because of politics companies that made low calorie sweeteners such as aspartame did not want competition Yet aspartame gave me headaches and even sometimes symptoms of multiple sclerosis So I would use stevia at times but the aftertaste was bad and to be honest I wasn t too crazy about the during taste either br br Then I tried NuNaturals This product is awesome and like no other stevia I have tried It is not only delicious but also has no aftertaste unless you put in way too much a common mistake by people new to this It comes in tablets and in powdered form in a bottle or handy packets with individual servings It also comes in alcohol free liquid form and even in vanilla flavor Unlike aspartame which becomes even more toxic when heated stevia can be used in baking NuNaturals has a stevia baking blend just for that Since I am a raw fooder I can t tell you how it tastes but I am sure it is good judging by their other products br br Thanks to these great products I can do a low carb raw diet but not be deprived of my sweets  \n",
      " ----------------------------------------------------------------------------------------------------\n",
      "This is one of my favorite sauces to have handy With this order you get two giant bottles which should last a while The taste of this is perfect Not for the faint of heart however  \n",
      " ----------------------------------------------------------------------------------------------------\n"
     ]
    }
   ],
   "source": [
    "#removing alphanumeric words \n",
    "\n",
    "r1=re.sub(r'\\w*\\d\\w*',' ',r1,flags=re.MULTILINE)\n",
    "r2=re.sub(r'\\w*\\d\\w*',' ',r2,flags=re.MULTILINE)\n",
    "r3=re.sub(r'\\w*\\d\\w*',' ',r3,flags=re.MULTILINE)\n",
    "r4=re.sub(r'\\w*\\d\\w*',' ',r4,flags=re.MULTILINE)\n",
    "\n",
    "print(r1,'\\n','-'*100)\n",
    "print(r2,'\\n','-'*100)\n",
    "print(r3,'\\n','-'*100)\n",
    "print(r4,'\\n','-'*100)\n",
    "\n",
    "# applying the above technique on all the reviews\n",
    "k=0\n",
    "for review in data4['Text']:\n",
    "    review=re.sub(r'\\w*\\d\\w*',' ',review)\n",
    "    #print(review)\n",
    "    data4['Text'].values[k]=review;\n",
    "    k+=1\n",
    "    "
   ]
  },
  {
   "cell_type": "markdown",
   "metadata": {},
   "source": [
    "Reviews after removing the alphanumeric words"
   ]
  },
  {
   "cell_type": "code",
   "execution_count": 118,
   "metadata": {},
   "outputs": [
    {
     "name": "stdout",
     "output_type": "stream",
     "text": [
      "This product does not work at all I hang it in the kitchen for   days but no fly has been attracted It doesn t worth the time and money to return it But please buyer beware I strongly suggest you go find some other item \n",
      "----------------------------------------------------------------------------------------------------\n",
      "I have recently been on a low carb diet as I find that I can no longer tolerate even natural sugars like agave honey and dates These raise the blood sugar which spikes the insulin a hormone whose message is store fat Insulin also causes the kidneys to retain water and therefore I would bloat from a high carb diet My dilemma is that I love sweets and now it is not a problem thanks to products like stevia a natural plant that has safely been used in parts of the world as a sweetener for hundreds of years It has no calories and no impact on the blood sugar although for some people there might be a bit as the brain is tricked into thinking it is getting sugar Stevia used to be legal in the USA only as a cosmetic product because of politics companies that made low calorie sweeteners such as aspartame did not want competition Yet aspartame gave me headaches and even sometimes symptoms of multiple sclerosis So I would use stevia at times but the aftertaste was bad and to be honest I wasn t too crazy about the during taste either Then I tried NuNaturals This product is awesome and like no other stevia I have tried It is not only delicious but also has no aftertaste unless you put in way too much a common mistake by people new to this It comes in tablets and in powdered form in a bottle or handy packets with individual servings It also comes in alcohol free liquid form and even in vanilla flavor Unlike aspartame which becomes even more toxic when heated stevia can be used in baking NuNaturals has a stevia baking blend just for that Since I am a raw fooder I can t tell you how it tastes but I am sure it is good judging by their other products Thanks to these great products I can do a low carb raw diet but not be deprived of my sweets \n"
     ]
    }
   ],
   "source": [
    "print(data4['Text'].values[0])\n",
    "print('-'*100)\n",
    "\n",
    "print(data4['Text'].values[500])"
   ]
  },
  {
   "cell_type": "code",
   "execution_count": 119,
   "metadata": {},
   "outputs": [
    {
     "name": "stdout",
     "output_type": "stream",
     "text": [
      "This product does not work at all I hang it in the kitchen for   days but no fly has been attracted br br It doesn t worth the time and money to return it But please buyer beware I strongly suggest you go find some other item  \n",
      " ----------------------------------------------------------------------------------------------------\n",
      "I have tried allot of bacon over the years and this is the best one I have found Very heavy smoke but does not taste bitter or acrid Smells smokier than it tastes it will perfume your kitchen This is also very lean bacon so don t worry that you are paying for some very expensive fat Still it s not cheap and you have to be a hard core bacon lover to pay that much especially if you have to pay shipping on top of it Would be a great gift though  \n",
      " ----------------------------------------------------------------------------------------------------\n",
      "I have recently been on a low carb diet as I find that I can no longer tolerate even natural sugars like agave honey and dates These raise the blood sugar which spikes the insulin a hormone whose message is store fat Insulin also causes the kidneys to retain water and therefore I would bloat from a high carb diet br br My dilemma is that I love sweets and now it is not a problem thanks to products like stevia a natural plant that has safely been used in parts of the world as a sweetener for hundreds of years It has no calories and no impact on the blood sugar although for some people there might be a bit as the brain is tricked into thinking it is getting sugar Stevia used to be legal in the USA only as a cosmetic product because of politics companies that made low calorie sweeteners such as aspartame did not want competition Yet aspartame gave me headaches and even sometimes symptoms of multiple sclerosis So I would use stevia at times but the aftertaste was bad and to be honest I wasn t too crazy about the during taste either br br Then I tried NuNaturals This product is awesome and like no other stevia I have tried It is not only delicious but also has no aftertaste unless you put in way too much a common mistake by people new to this It comes in tablets and in powdered form in a bottle or handy packets with individual servings It also comes in alcohol free liquid form and even in vanilla flavor Unlike aspartame which becomes even more toxic when heated stevia can be used in baking NuNaturals has a stevia baking blend just for that Since I am a raw fooder I can t tell you how it tastes but I am sure it is good judging by their other products br br Thanks to these great products I can do a low carb raw diet but not be deprived of my sweets  \n",
      " ----------------------------------------------------------------------------------------------------\n",
      "This is one of my favorite sauces to have handy With this order you get two giant bottles which should last a while The taste of this is perfect Not for the faint of heart however  \n",
      " ----------------------------------------------------------------------------------------------------\n"
     ]
    }
   ],
   "source": [
    "#removing the links from the reviews \n",
    "\n",
    "r1=re.sub(r'^https?:\\/\\/.*[\\r\\n]*',' ',r1,flags=re.MULTILINE)\n",
    "r2=re.sub(r'^https?:\\/\\/.*[\\r\\n]*',' ',r2,flags=re.MULTILINE)\n",
    "r3=re.sub(r'^https?:\\/\\/.*[\\r\\n]*',' ',r3,flags=re.MULTILINE)\n",
    "r4=re.sub(r'^https?:\\/\\/.*[\\r\\n]*',' ',r4,flags=re.MULTILINE)\n",
    "\n",
    "print(r1,'\\n','-'*100)\n",
    "print(r2,'\\n','-'*100)\n",
    "print(r3,'\\n','-'*100)\n",
    "print(r4,'\\n','-'*100)\n",
    "\n",
    "# applying the above technique on all the reviews\n",
    "k=0\n",
    "for review in data4['Text']:\n",
    "    r=re.sub(r'^https?:\\/\\/.*[\\r\\n]*',' ',review,flags=re.MULTILINE)\n",
    "    data4['Text'].values[k]=r\n",
    "    k+=1\n",
    "    "
   ]
  },
  {
   "cell_type": "markdown",
   "metadata": {},
   "source": [
    "Reviews after removing the links"
   ]
  },
  {
   "cell_type": "code",
   "execution_count": 120,
   "metadata": {},
   "outputs": [
    {
     "name": "stdout",
     "output_type": "stream",
     "text": [
      "This product does not work at all I hang it in the kitchen for   days but no fly has been attracted It doesn t worth the time and money to return it But please buyer beware I strongly suggest you go find some other item \n",
      "----------------------------------------------------------------------------------------------------\n",
      "I have recently been on a low carb diet as I find that I can no longer tolerate even natural sugars like agave honey and dates These raise the blood sugar which spikes the insulin a hormone whose message is store fat Insulin also causes the kidneys to retain water and therefore I would bloat from a high carb diet My dilemma is that I love sweets and now it is not a problem thanks to products like stevia a natural plant that has safely been used in parts of the world as a sweetener for hundreds of years It has no calories and no impact on the blood sugar although for some people there might be a bit as the brain is tricked into thinking it is getting sugar Stevia used to be legal in the USA only as a cosmetic product because of politics companies that made low calorie sweeteners such as aspartame did not want competition Yet aspartame gave me headaches and even sometimes symptoms of multiple sclerosis So I would use stevia at times but the aftertaste was bad and to be honest I wasn t too crazy about the during taste either Then I tried NuNaturals This product is awesome and like no other stevia I have tried It is not only delicious but also has no aftertaste unless you put in way too much a common mistake by people new to this It comes in tablets and in powdered form in a bottle or handy packets with individual servings It also comes in alcohol free liquid form and even in vanilla flavor Unlike aspartame which becomes even more toxic when heated stevia can be used in baking NuNaturals has a stevia baking blend just for that Since I am a raw fooder I can t tell you how it tastes but I am sure it is good judging by their other products Thanks to these great products I can do a low carb raw diet but not be deprived of my sweets \n"
     ]
    }
   ],
   "source": [
    "print(data4['Text'].values[0])\n",
    "print('-'*100)\n",
    "\n",
    "print(data4['Text'].values[500])"
   ]
  },
  {
   "cell_type": "code",
   "execution_count": 126,
   "metadata": {},
   "outputs": [
    {
     "name": "stdout",
     "output_type": "stream",
     "text": [
      "I have tried allot of bacon over the years and this is the best one I have found Very heavy smoke but does not taste bitter or acrid Smells smokier than it tastes it will perfume your kitchen This is also very lean bacon so don t worry that you are paying for some very expensive fat Still it s not cheap and you have to be a hard core bacon lover to pay that much especially if you have to pay shipping on top of it Would be a great gift though \n",
      "----------------------------------------------------------------------------------------------------\n",
      "I have tried allot of bacon over the years and this is the best one I have found Very heavy smoke but does not taste bitter or acrid Smells smokier than it tastes it will perfume your kitchen This is also very lean bacon so don t worry that you are paying for some very expensive fat Still it s not cheap and you have to be a hard core bacon lover to pay that much especially if you have to pay shipping on top of it Would be a great gift though \n"
     ]
    }
   ],
   "source": [
    "clean_reviews=[]\n",
    "\n",
    "for review in data4['Text']:\n",
    "    clean_reviews.append(review)\n",
    "\n",
    "print(data4['Text'].values[100])\n",
    "print('-'*100)\n",
    "print(clean_reviews[100])"
   ]
  },
  {
   "cell_type": "markdown",
   "metadata": {},
   "source": [
    "# Bag of Words"
   ]
  },
  {
   "cell_type": "code",
   "execution_count": null,
   "metadata": {},
   "outputs": [],
   "source": [
    "from sklearn.feature_extraction.text import CountVectorizer\n",
    "\n",
    "cv=CountVectorizer()\n",
    "cv.fit(clean_reviews)\n"
   ]
  },
  {
   "cell_type": "code",
   "execution_count": null,
   "metadata": {},
   "outputs": [],
   "source": []
  },
  {
   "cell_type": "code",
   "execution_count": null,
   "metadata": {},
   "outputs": [],
   "source": []
  },
  {
   "cell_type": "code",
   "execution_count": null,
   "metadata": {},
   "outputs": [],
   "source": []
  },
  {
   "cell_type": "code",
   "execution_count": null,
   "metadata": {},
   "outputs": [],
   "source": []
  },
  {
   "cell_type": "code",
   "execution_count": null,
   "metadata": {},
   "outputs": [],
   "source": []
  }
 ],
 "metadata": {
  "kernelspec": {
   "display_name": "Python 3 (ipykernel)",
   "language": "python",
   "name": "python3"
  },
  "language_info": {
   "codemirror_mode": {
    "name": "ipython",
    "version": 3
   },
   "file_extension": ".py",
   "mimetype": "text/x-python",
   "name": "python",
   "nbconvert_exporter": "python",
   "pygments_lexer": "ipython3",
   "version": "3.11.5"
  }
 },
 "nbformat": 4,
 "nbformat_minor": 2
}
